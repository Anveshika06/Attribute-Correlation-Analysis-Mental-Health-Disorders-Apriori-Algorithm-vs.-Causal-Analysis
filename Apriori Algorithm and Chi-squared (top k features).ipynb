{
 "cells": [
  {
   "cell_type": "code",
   "execution_count": 12,
   "id": "1c3d18b1",
   "metadata": {},
   "outputs": [
    {
     "name": "stderr",
     "output_type": "stream",
     "text": [
      "C:\\Users\\anves\\AppData\\Roaming\\Python\\Python37\\site-packages\\mlxtend\\frequent_patterns\\fpcommon.py:115: DeprecationWarning: DataFrames with non-bool types result in worse computationalperformance and their support might be discontinued in the future.Please use a DataFrame with bool type\n",
      "  DeprecationWarning,\n"
     ]
    },
    {
     "name": "stdout",
     "output_type": "stream",
     "text": [
      "✅ Frequent itemsets found: 35856\n",
      "   support                    itemsets\n",
      "0   0.2548             (Gender_Female)\n",
      "1   0.2540               (Gender_Male)\n",
      "2   0.2428         (Gender_Non-binary)\n",
      "3   0.2484  (Gender_Prefer not to say)\n",
      "4   0.3298      (Work_Location_Hybrid)\n",
      "✅ All rules generated: 8054\n",
      "                  antecedents                              consequents  \\\n",
      "0             (Gender_Female)   (Access_to_Mental_Health_Resources_No)   \n",
      "1               (Gender_Male)   (Access_to_Mental_Health_Resources_No)   \n",
      "2         (Gender_Non-binary)   (Access_to_Mental_Health_Resources_No)   \n",
      "3  (Gender_Prefer not to say)  (Access_to_Mental_Health_Resources_Yes)   \n",
      "4      (Work_Location_Hybrid)   (Access_to_Mental_Health_Resources_No)   \n",
      "\n",
      "   support  confidence      lift  \n",
      "0   0.1326    0.520408  1.019209  \n",
      "1   0.1300    0.511811  1.002372  \n",
      "2   0.1250    0.514827  1.008279  \n",
      "3   0.1254    0.504831  1.031530  \n",
      "4   0.1674    0.507580  0.994086  \n",
      "✅ Filtered mental health rules: 0\n",
      "Empty DataFrame\n",
      "Columns: [antecedents, consequents]\n",
      "Index: []\n",
      "⚠️ No filtered rules found — using general top rules\n"
     ]
    },
    {
     "data": {
      "image/png": "[encoded data removed]",
      "text/plain": [
       "<Figure size 720x432 with 1 Axes>"
      ]
     },
     "metadata": {
      "needs_background": "light"
     },
     "output_type": "display_data"
    },
    {
     "name": "stdout",
     "output_type": "stream",
     "text": [
      "\n",
      "🧾 Final Rule Summary:\n",
      "                                            antecedents  \\\n",
      "7266  (Gender_Prefer not to say, Age_Group_46-60, Ba...   \n",
      "7256  (Gender_Male, Age_Group_46-60, Isolation_Bin_L...   \n",
      "1283  (Gender_Female, Sleep_Quality_Average, Hours_B...   \n",
      "7268  (Gender_Prefer not to say, Age_Group_46-60, Ba...   \n",
      "7577  (Sleep_Quality_Good, Satisfaction_with_Remote_...   \n",
      "7328  (Work_Location_Hybrid, Hours_Bin_<30, Access_t...   \n",
      "2177  (Gender_Prefer not to say, Age_Group_18-30, Ba...   \n",
      "7576  (Work_Location_Remote, Satisfaction_with_Remot...   \n",
      "8010  (Satisfaction_with_Remote_Work_Unsatisfied, Is...   \n",
      "7306  (Work_Location_Hybrid, Sleep_Quality_Good, Str...   \n",
      "\n",
      "                                    consequents  support  confidence      lift  \n",
      "7266                        (Isolation_Bin_Low)   0.0102    0.698630  1.730139  \n",
      "7256                         (Stress_Level_Low)   0.0108    0.540000  1.641337  \n",
      "1283                  (Physical_Activity_Daily)   0.0106    0.504762  1.561763  \n",
      "7268                      (Stress_Level_Medium)   0.0102    0.520408  1.559042  \n",
      "7577                     (Work_Location_Remote)   0.0128    0.528926  1.542957  \n",
      "7328  (Satisfaction_with_Remote_Work_Satisfied)   0.0102    0.515152  1.537766  \n",
      "2177                     (Work_Location_Remote)   0.0118    0.526786  1.536714  \n",
      "7576                       (Sleep_Quality_Good)   0.0128    0.516129  1.529724  \n",
      "8010                       (Sleep_Quality_Good)   0.0104    0.514851  1.525938  \n",
      "7306  (Satisfaction_with_Remote_Work_Satisfied)   0.0104    0.509804  1.521803  \n"
     ]
    }
   ],
   "source": [
    "# Install if needed\n",
    "# !pip install mlxtend\n",
    "\n",
    "import pandas as pd\n",
    "import matplotlib.pyplot as plt\n",
    "import seaborn as sns\n",
    "from mlxtend.frequent_patterns import apriori, association_rules\n",
    "\n",
    "# Load dataset\n",
    "df = pd.read_csv( r\"C:\\Users\\anves\\Downloads\\Impact_of_Remote_Work_on_Mental_Health.csv\")\n",
    "\n",
    "# Optional: Drop ID column if exists\n",
    "df = df.drop(columns=[\"Employee_ID\"], errors='ignore')\n",
    "\n",
    "# Bin continuous features\n",
    "df['Age_Group'] = pd.cut(df['Age'], bins=[17, 30, 45, 60, 100], labels=[\"18-30\", \"31-45\", \"46-60\", \"60+\"])\n",
    "df['Hours_Bin'] = pd.cut(df['Hours_Worked_Per_Week'], bins=[0, 30, 40, 50, 100], labels=[\"<30\", \"30-40\", \"40-50\", \"50+\"])\n",
    "df['Balance_Bin'] = pd.cut(df['Work_Life_Balance_Rating'], bins=[0, 2, 4, 5], labels=[\"Low\", \"Medium\", \"High\"])\n",
    "df['Isolation_Bin'] = pd.cut(df['Social_Isolation_Rating'], bins=[0, 2, 4, 5], labels=[\"Low\", \"Medium\", \"High\"])\n",
    "\n",
    "# Select relevant categorical columns\n",
    "features = [\n",
    "    'Gender', 'Work_Location', 'Stress_Level', 'Mental_Health_Condition',\n",
    "    'Access_to_Mental_Health_Resources', 'Satisfaction_with_Remote_Work',\n",
    "    'Physical_Activity', 'Sleep_Quality', 'Region',\n",
    "    'Age_Group', 'Hours_Bin', 'Balance_Bin', 'Isolation_Bin'\n",
    "]\n",
    "\n",
    "# One-hot encode\n",
    "apriori_df = pd.get_dummies(df[features])\n",
    "\n",
    "# Run Apriori\n",
    "frequent_itemsets = apriori(apriori_df, min_support=0.01, use_colnames=True)\n",
    "print(\"✅ Frequent itemsets found:\", frequent_itemsets.shape[0])\n",
    "print(frequent_itemsets.head())\n",
    "\n",
    "# Generate all association rules\n",
    "rules = association_rules(frequent_itemsets, metric=\"confidence\", min_threshold=0.5)\n",
    "print(\"✅ All rules generated:\", rules.shape[0])\n",
    "print(rules[['antecedents', 'consequents', 'support', 'confidence', 'lift']].head())\n",
    "\n",
    "# Filter for mental health related rules\n",
    "rules_filtered = rules[rules['consequents'].astype(str).str.contains(\"Mental_Health_Condition_\")]\n",
    "print(\"✅ Filtered mental health rules:\", rules_filtered.shape[0])\n",
    "print(rules_filtered[['antecedents', 'consequents']].head())\n",
    "\n",
    "# Select top 10 rules (fallback to general rules if filtered is empty)\n",
    "if rules_filtered.shape[0] >= 1:\n",
    "    top_rules = rules_filtered.sort_values(by=\"lift\", ascending=False).head(10)\n",
    "    print(\"✅ Using mental health rules for plotting\")\n",
    "else:\n",
    "    top_rules = rules.sort_values(by=\"lift\", ascending=False).head(10)\n",
    "    print(\"⚠️ No filtered rules found — using general top rules\")\n",
    "\n",
    "# Convert frozensets to string for plot\n",
    "top_rules = top_rules.copy()\n",
    "top_rules[\"consequent_str\"] = top_rules[\"consequents\"].apply(lambda x: ', '.join(list(x)))\n",
    "\n",
    "# Barplot of top rules\n",
    "plt.figure(figsize=(10, 6))\n",
    "sns.barplot(data=top_rules, x=\"lift\", y=\"consequent_str\")\n",
    "plt.title(\"Top 10 Association Rules by Lift\")\n",
    "plt.xlabel(\"Lift\")\n",
    "plt.ylabel(\"Consequents\")\n",
    "plt.xticks(rotation=45)\n",
    "plt.tight_layout()\n",
    "plt.show()\n",
    "\n",
    "# Optional: Display rule table\n",
    "print(\"\\n🧾 Final Rule Summary:\")\n",
    "print(top_rules[['antecedents', 'consequents', 'support', 'confidence', 'lift']])\n"
   ]
  },
  {
   "cell_type": "code",
   "execution_count": 23,
   "id": "79ae27ac",
   "metadata": {},
   "outputs": [
    {
     "name": "stdout",
     "output_type": "stream",
     "text": [
      "Top 10 features selected from Apriori rules:\n",
      "['Access', 'Gender', 'Isolation', 'Age', 'Balance', 'Sleep', 'Hours', 'Satisfaction', 'Work', 'Stress']\n"
     ]
    }
   ],
   "source": [
    "from collections import Counter\n",
    "\n",
    "# Replace this with your actual DataFrame if named differently\n",
    "# top_rules = rules.sort_values(by=\"lift\", ascending=False).head(10)\n",
    "\n",
    "# Extract base feature names from antecedents\n",
    "feature_counter = Counter()\n",
    "for antecedent in top_rules[\"antecedents\"]:\n",
    "    for feature in antecedent:\n",
    "        base = feature.split(\"_\")[0]\n",
    "        feature_counter[base] += 1\n",
    "\n",
    "# Get the top N most frequent features\n",
    "top_n = 10  # Change as needed\n",
    "top_features = [feature for feature, count in feature_counter.most_common(top_n)]\n",
    "\n",
    "# Print the result\n",
    "print(\"Top\", top_n, \"features selected from Apriori rules:\")\n",
    "print(top_features)\n"
   ]
  },
  {
   "cell_type": "code",
   "execution_count": null,
   "id": "ce72de56",
   "metadata": {},
   "outputs": [],
   "source": [
    "# Top 10 Apriori-selected features with actual column names\n",
    "top_features = [\n",
    "    'Access_to_Mental_Health_Resources',\n",
    "    'Gender',\n",
    "    'Isolation_Bin',\n",
    "    'Age',\n",
    "    'Balance_Bin',\n",
    "    'Sleep_Quality',\n",
    "    'Hours_Bin',\n",
    "    'Satisfaction_with_Remote_Work',\n",
    "    'Work_Location',\n",
    "    'Stress_Level'\n",
    "]"
   ]
  },
  {
   "cell_type": "code",
   "execution_count": 4,
   "id": "7e8c413e",
   "metadata": {},
   "outputs": [
    {
     "name": "stdout",
     "output_type": "stream",
     "text": [
      "Top Chi-Squared Features:\n",
      "                              Feature   Chi2 Score        P-value\n",
      "0                         Employee_ID  1348.911519  3.587887e-292\n",
      "3                            Job_Role    13.011268   4.612301e-03\n",
      "8          Number_of_Virtual_Meetings     9.702907   2.126792e-02\n",
      "7               Hours_Worked_Per_Week     8.736562   3.300644e-02\n",
      "5                 Years_of_Experience     3.691720   2.967346e-01\n",
      "18                             Region     3.366822   3.384501e-01\n",
      "15    Company_Support_for_Remote_Work     3.218852   3.590975e-01\n",
      "2                              Gender     3.217112   3.593468e-01\n",
      "17                      Sleep_Quality     3.170048   3.661428e-01\n",
      "13            Social_Isolation_Rating     1.650225   6.480559e-01\n",
      "11  Access_to_Mental_Health_Resources     1.598567   6.597147e-01\n",
      "10                       Stress_Level     1.532234   6.748510e-01\n",
      "1                                 Age     1.346741   7.180650e-01\n",
      "16                  Physical_Activity     1.244282   7.424045e-01\n",
      "12                Productivity_Change     0.948079   8.138125e-01\n",
      "9            Work_Life_Balance_Rating     0.840190   8.398320e-01\n",
      "6                       Work_Location     0.834150   8.412826e-01\n",
      "14      Satisfaction_with_Remote_Work     0.734493   8.650623e-01\n",
      "4                            Industry     0.688290   8.759548e-01\n"
     ]
    }
   ],
   "source": [
    "import pandas as pd\n",
    "from sklearn.feature_selection import SelectKBest, chi2\n",
    "from sklearn.preprocessing import LabelEncoder\n",
    "\n",
    "# Step 1: Load your data\n",
    "df = pd.read_csv( r\"C:\\Users\\anves\\Downloads\\Impact_of_Remote_Work_on_Mental_Health.csv\")\n",
    "\n",
    "# Step 2: Prepare features and target\n",
    "# Let's assume the target is 'Mental_Health_Issue'\n",
    "X = df.drop(columns=['Mental_Health_Condition', ''])  # features\n",
    "y = df['Mental_Health_Condition']                # target\n",
    "\n",
    "# Step 3: Convert categorical features to numeric (if any)\n",
    "X_encoded = X.copy()\n",
    "for col in X.columns:\n",
    "    if X[col].dtype == 'object' or X[col].dtype.name == 'category':\n",
    "        le = LabelEncoder()\n",
    "        X_encoded[col] = le.fit_transform(X[col].astype(str))\n",
    "\n",
    "# Step 4: Apply Chi-Squared test\n",
    "selector = SelectKBest(score_func=chi2, k= 10)  # you can use k=10 or any number\n",
    "X_new = selector.fit_transform(X_encoded, y)\n",
    "\n",
    "# Step 5: View scores\n",
    "chi2_scores = pd.DataFrame({\n",
    "    'Feature': X_encoded.columns,\n",
    "    'Chi2 Score': selector.scores_,\n",
    "    'P-value': selector.pvalues_\n",
    "}).sort_values(by='Chi2 Score', ascending=False)\n",
    "\n",
    "# Step 6: Print top features\n",
    "print(\"Top Chi-Squared Features:\")\n",
    "print(chi2_scores)\n"
   ]
  }
 ],
 "metadata": {
  "kernelspec": {
   "display_name": "Python 3 (ipykernel)",
   "language": "python",
   "name": "python3"
  },
  "language_info": {
   "codemirror_mode": {
    "name": "ipython",
    "version": 3
   },
   "file_extension": ".py",
   "mimetype": "text/x-python",
   "name": "python",
   "nbconvert_exporter": "python",
   "pygments_lexer": "ipython3",
   "version": "3.7.9"
  }
 },
 "nbformat": 4,
 "nbformat_minor": 5
}
